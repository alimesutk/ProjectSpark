{
 "cells": [
  {
   "cell_type": "markdown",
   "metadata": {},
   "source": [
    "#### Kullanılacak modüller import edilir."
   ]
  },
  {
   "cell_type": "code",
   "execution_count": 1,
   "metadata": {
    "pycharm": {
     "name": "#%%\n"
    }
   },
   "outputs": [],
   "source": [
    "from pyspark.sql import SparkSession, functions, Window\n",
    "import pyspark"
   ]
  },
  {
   "cell_type": "markdown",
   "metadata": {},
   "source": [
    "#### Spark ortamına erişim için session yaratılır."
   ]
  },
  {
   "cell_type": "code",
   "execution_count": 2,
   "metadata": {},
   "outputs": [],
   "source": [
    "spark = SparkSession.\\\n",
    "    builder.\\\n",
    "    master('local[*]').\\\n",
    "    appName('firstapp').\\\n",
    "    getOrCreate()"
   ]
  },
  {
   "cell_type": "markdown",
   "metadata": {},
   "source": [
    "#### Yüklü PySpark versiyonu kontrol edilebilir."
   ]
  },
  {
   "cell_type": "code",
   "execution_count": 3,
   "metadata": {},
   "outputs": [
    {
     "data": {
      "text/plain": [
       "'3.1.2'"
      ]
     },
     "execution_count": 3,
     "metadata": {},
     "output_type": "execute_result"
    }
   ],
   "source": [
    "pyspark.__version__"
   ]
  },
  {
   "cell_type": "markdown",
   "metadata": {},
   "source": [
    "#### worldcities.csv dosyası proje klasöründen dataframe'e aktarılır."
   ]
  },
  {
   "cell_type": "code",
   "execution_count": 4,
   "metadata": {},
   "outputs": [],
   "source": [
    "df = spark.read.csv('worldcities.csv', header=True)"
   ]
  },
  {
   "cell_type": "markdown",
   "metadata": {},
   "source": [
    "#### df 'te yer alan veri setine Spark içinde yer alan HIVE üzerinden sorgularmış gibi direkt sql sorgusu yapmamıza olanak sağlayan bir geçici view yaratılır. Bu view session bazlıdır."
   ]
  },
  {
   "cell_type": "code",
   "execution_count": 5,
   "metadata": {},
   "outputs": [],
   "source": [
    "df.createOrReplaceTempView(\"worldcities\")"
   ]
  },
  {
   "cell_type": "markdown",
   "metadata": {},
   "source": [
    "#### catalog.listTables() fonksiyonu ile hangi tablo ve viewların mevcut HIVE altında göründüğü öğrenilebilir. "
   ]
  },
  {
   "cell_type": "code",
   "execution_count": 6,
   "metadata": {},
   "outputs": [
    {
     "data": {
      "text/plain": [
       "[Table(name='worldcities', database=None, description=None, tableType='TEMPORARY', isTemporary=True)]"
      ]
     },
     "execution_count": 6,
     "metadata": {},
     "output_type": "execute_result"
    }
   ],
   "source": [
    "spark.catalog.listTables()"
   ]
  },
  {
   "cell_type": "markdown",
   "metadata": {},
   "source": [
    "#### worldcities veri setinin içeriği aşağıdaki şekildedir."
   ]
  },
  {
   "cell_type": "code",
   "execution_count": 7,
   "metadata": {},
   "outputs": [
    {
     "name": "stdout",
     "output_type": "stream",
     "text": [
      "+-----------+-----------+--------+--------+------------+----+----+----------------+-------+----------+----------+\n",
      "|       city| city_ascii|     lat|     lng|     country|iso2|iso3|      admin_name|capital|population|        id|\n",
      "+-----------+-----------+--------+--------+------------+----+----+----------------+-------+----------+----------+\n",
      "|      Tokyo|      Tokyo| 35.6897|139.6922|       Japan|  JP| JPN|           Tōkyō|primary|  37977000|1392685764|\n",
      "|    Jakarta|    Jakarta| -6.2146|106.8451|   Indonesia|  ID| IDN|         Jakarta|primary|  34540000|1360771077|\n",
      "|      Delhi|      Delhi| 28.6600| 77.2300|       India|  IN| IND|           Delhi|  admin|  29617000|1356872604|\n",
      "|     Mumbai|     Mumbai| 18.9667| 72.8333|       India|  IN| IND|     Mahārāshtra|  admin|  23355000|1356226629|\n",
      "|     Manila|     Manila| 14.6000|120.9833| Philippines|  PH| PHL|          Manila|primary|  23088000|1608618140|\n",
      "|   Shanghai|   Shanghai| 31.1667|121.4667|       China|  CN| CHN|        Shanghai|  admin|  22120000|1156073548|\n",
      "|  São Paulo|  Sao Paulo|-23.5504|-46.6339|      Brazil|  BR| BRA|       São Paulo|  admin|  22046000|1076532519|\n",
      "|      Seoul|      Seoul| 37.5600|126.9900|Korea, South|  KR| KOR|           Seoul|primary|  21794000|1410836482|\n",
      "|Mexico City|Mexico City| 19.4333|-99.1333|      Mexico|  MX| MEX|Ciudad de México|primary|  20996000|1484247881|\n",
      "|  Guangzhou|  Guangzhou| 23.1288|113.2590|       China|  CN| CHN|       Guangdong|  admin|  20902000|1156237133|\n",
      "+-----------+-----------+--------+--------+------------+----+----+----------------+-------+----------+----------+\n",
      "only showing top 10 rows\n",
      "\n"
     ]
    }
   ],
   "source": [
    "df.select(\"*\").show(10)"
   ]
  },
  {
   "cell_type": "markdown",
   "metadata": {},
   "source": [
    "## Örnek Senaryo 1\n",
    "\n",
    "#### Temp View üzerinde SQL kullanarak belirli bir paralel ile meridyen aralığındaki şehirlerin bilgisi aşağıdaki şekilde çekilir."
   ]
  },
  {
   "cell_type": "code",
   "execution_count": 8,
   "metadata": {
    "scrolled": true
   },
   "outputs": [
    {
     "name": "stdout",
     "output_type": "stream",
     "text": [
      "+----------+-------+-------+-------+\n",
      "|      city|    lat|    lng|country|\n",
      "+----------+-------+-------+-------+\n",
      "|    ‘Āmūdā|37.1042|40.9300|  Syria|\n",
      "|     Derik|37.3644|40.2689| Turkey|\n",
      "|Diyarbakır|37.9108|40.2367| Turkey|\n",
      "| Kızıltepe|37.1939|40.5861| Turkey|\n",
      "|    Mardin|37.3167|40.7378| Turkey|\n",
      "|     Çınar|37.7256|40.4147| Turkey|\n",
      "+----------+-------+-------+-------+\n",
      "\n"
     ]
    }
   ],
   "source": [
    "spark.sql(\"SELECT city, lat, lng, country \\\n",
    "           FROM worldcities \\\n",
    "           WHERE (lat BETWEEN 37.0000 AND 38.0000) \\\n",
    "               AND (lng BETWEEN 40.0000 AND 41.0000) \\\n",
    "           ORDER BY country,city \\\n",
    "           LIMIT 10\").show()"
   ]
  },
  {
   "cell_type": "markdown",
   "metadata": {},
   "source": [
    "#### SQL ile yukarıda yapılan sorgunun Spark SQL fonksiyonlarıyla kullanımı aşağıdaki şekildedir."
   ]
  },
  {
   "cell_type": "code",
   "execution_count": 9,
   "metadata": {
    "scrolled": true
   },
   "outputs": [
    {
     "name": "stdout",
     "output_type": "stream",
     "text": [
      "+----------+-------+-------+-------+\n",
      "|      city|    lat|    lng|country|\n",
      "+----------+-------+-------+-------+\n",
      "|    ‘Āmūdā|37.1042|40.9300|  Syria|\n",
      "|     Derik|37.3644|40.2689| Turkey|\n",
      "|Diyarbakır|37.9108|40.2367| Turkey|\n",
      "| Kızıltepe|37.1939|40.5861| Turkey|\n",
      "|    Mardin|37.3167|40.7378| Turkey|\n",
      "|     Çınar|37.7256|40.4147| Turkey|\n",
      "+----------+-------+-------+-------+\n",
      "\n"
     ]
    }
   ],
   "source": [
    "df\\\n",
    ".select(\"city\",\"lat\",\"lng\",\"country\")\\\n",
    ".where(df.lat.between(\"37\",\"38\") & df.lng.between(\"40\",\"41\"))\\\n",
    ".orderBy(\"country\",\"city\")\\\n",
    ".limit(10)\\\n",
    ".show()"
   ]
  },
  {
   "cell_type": "markdown",
   "metadata": {},
   "source": [
    "#### Her ülkeye ait kaç şehir olduğu aşağıdaki şekilde sorgulanabilir."
   ]
  },
  {
   "cell_type": "code",
   "execution_count": 11,
   "metadata": {},
   "outputs": [
    {
     "name": "stdout",
     "output_type": "stream",
     "text": [
      "+--------------+-----+\n",
      "|       country|count|\n",
      "+--------------+-----+\n",
      "| United States| 7824|\n",
      "|        Brazil| 3371|\n",
      "|       Germany| 2624|\n",
      "|         Italy| 2124|\n",
      "|        France| 2017|\n",
      "|United Kingdom| 1814|\n",
      "|   Philippines| 1533|\n",
      "|         China| 1498|\n",
      "|        Russia| 1487|\n",
      "|         Spain| 1035|\n",
      "+--------------+-----+\n",
      "only showing top 10 rows\n",
      "\n"
     ]
    }
   ],
   "source": [
    "(df.groupBy(\"country\").count()).orderBy(\"count\",ascending=False).show(10)"
   ]
  },
  {
   "cell_type": "markdown",
   "metadata": {},
   "source": [
    "## Örnek Senaryo 2\n",
    "\n",
    "#### Aggregation ve Windowing fonksiyon yeteneklerini sınamak için SQL ile yapılan aşağıdaki sorguda; ülkelerin 15M'den fazla nüfusa sahip şehirlerinin bazı türetilmiş verileri mevcut. \n",
    "    * RN kolonu ile ülkelerin kendi içinde nüfusu az olandan çok olana sıralanması sağlanır. (ROW NUMBER)\n",
    "    * SM kolonu ile ülkelerin toplam nüfusu hesaplanır. Her bir birim 1 Milyon ölçeğindedir. (SUM)\n",
    "    * CNT kolonu ile ülkelerin kayıtlı şehir sayısı hesaplanır. (COUNT)\n",
    "    * DR kolonu ile toplam nüfusun şehir sayısına oranı hesaplanır ve şehirlerin ülke bazındaki yoğunlukları bulunur. (Density Ratio)"
   ]
  },
  {
   "cell_type": "code",
   "execution_count": 12,
   "metadata": {},
   "outputs": [
    {
     "name": "stdout",
     "output_type": "stream",
     "text": [
      "+-------------+------------+----------+---+------+---+------+\n",
      "|      country|        city|population| RN|    SM|CNT|    DR|\n",
      "+-------------+------------+----------+---+------+---+------+\n",
      "|       Russia|      Moscow|  17125000|  1|17.125|  1|17.125|\n",
      "|  Philippines|      Manila|  23088000|  1|23.088|  1|23.088|\n",
      "|       Turkey|    Istanbul|  15154000|  1|15.154|  1|15.154|\n",
      "|    Argentina|Buenos Aires|  16157000|  1|16.157|  1|16.157|\n",
      "|        China|     Beijing|  19433000|  1|78.384|  4|19.596|\n",
      "|        China|   Guangzhou|  20902000|  2|78.384|  4|19.596|\n",
      "|        China|    Shanghai|  22120000|  3|78.384|  4|19.596|\n",
      "|        China|    Shenzhen|  15929000|  4|78.384|  4|19.596|\n",
      "|        India|       Delhi|  29617000|  1|70.532|  3|23.511|\n",
      "|        India|     Kolkāta|  17560000|  2|70.532|  3|23.511|\n",
      "|        India|      Mumbai|  23355000|  3|70.532|  3|23.511|\n",
      "|United States|    New York|  18713220|  1|18.713|  1|18.713|\n",
      "|      Nigeria|       Lagos|  15279000|  1|15.279|  1|15.279|\n",
      "|   Bangladesh|       Dhaka|  15443000|  1|15.443|  1|15.443|\n",
      "|     Thailand|     Bangkok|  17066000|  1|17.066|  1|17.066|\n",
      "|       Mexico| Mexico City|  20996000|  1|20.996|  1|20.996|\n",
      "|    Indonesia|     Jakarta|  34540000|  1| 34.54|  1| 34.54|\n",
      "| Korea, South|       Seoul|  21794000|  1|21.794|  1|21.794|\n",
      "|       Brazil|   São Paulo|  22046000|  1|22.046|  1|22.046|\n",
      "|        Japan|       Tokyo|  37977000|  1|37.977|  1|37.977|\n",
      "|        Egypt|       Cairo|  19372000|  1|19.372|  1|19.372|\n",
      "+-------------+------------+----------+---+------+---+------+\n",
      "\n"
     ]
    }
   ],
   "source": [
    "spark.sql(\"SELECT country,city,population, \\\n",
    "    ROW_NUMBER() OVER (PARTITION BY country ORDER BY city ASC) as RN, \\\n",
    "    ROUND(SUM(population/1000000) OVER(PARTITION BY country),3) as SM, \\\n",
    "    COUNT(city) OVER(PARTITION BY country) as CNT, \\\n",
    "    ROUND((SUM(population/1000000) OVER(PARTITION BY country))/(COUNT(city) OVER(PARTITION BY country)),3) AS DR \\\n",
    "    FROM worldcities WHERE population > 15000000\").show(30)"
   ]
  },
  {
   "cell_type": "markdown",
   "metadata": {},
   "source": [
    "#### Yukarıda yapılan örnekteki RN kısmı Spark'taki windowing fonksiyonalitesi kullanılarak aşağıdaki şekilde gerçekleştirilir. Dikkat edilirse önce Where ifadesi kullanılarak veri küçültülüp ardından oluşan set üzerinde de işlem yapmak mümkündür ve ihtiyaç dahilinde daha performanslı bir kullanım olacaktır."
   ]
  },
  {
   "cell_type": "code",
   "execution_count": 13,
   "metadata": {},
   "outputs": [
    {
     "name": "stdout",
     "output_type": "stream",
     "text": [
      "+-------------+------------+----------+---+\n",
      "|      country|        city|population| RN|\n",
      "+-------------+------------+----------+---+\n",
      "|       Russia|      Moscow|  17125000|  1|\n",
      "|  Philippines|      Manila|  23088000|  1|\n",
      "|       Turkey|    Istanbul|  15154000|  1|\n",
      "|    Argentina|Buenos Aires|  16157000|  1|\n",
      "|        China|     Beijing|  19433000|  1|\n",
      "|        China|   Guangzhou|  20902000|  2|\n",
      "|        China|    Shanghai|  22120000|  3|\n",
      "|        China|    Shenzhen|  15929000|  4|\n",
      "|        India|       Delhi|  29617000|  1|\n",
      "|        India|     Kolkāta|  17560000|  2|\n",
      "|        India|      Mumbai|  23355000|  3|\n",
      "|United States|    New York|  18713220|  1|\n",
      "|      Nigeria|       Lagos|  15279000|  1|\n",
      "|   Bangladesh|       Dhaka|  15443000|  1|\n",
      "|     Thailand|     Bangkok|  17066000|  1|\n",
      "|       Mexico| Mexico City|  20996000|  1|\n",
      "|    Indonesia|     Jakarta|  34540000|  1|\n",
      "| Korea, South|       Seoul|  21794000|  1|\n",
      "|       Brazil|   São Paulo|  22046000|  1|\n",
      "|        Japan|       Tokyo|  37977000|  1|\n",
      "|        Egypt|       Cairo|  19372000|  1|\n",
      "+-------------+------------+----------+---+\n",
      "\n"
     ]
    }
   ],
   "source": [
    "df\\\n",
    ".where(df.population > 15000000)\\\n",
    ".select(\"country\",\"city\",\"population\", \n",
    "          functions.row_number().over(Window.partitionBy(\"country\").orderBy(\"city\")).alias(\"RN\"))\\\n",
    ".show(50)"
   ]
  },
  {
   "cell_type": "markdown",
   "metadata": {},
   "source": [
    "#### SQL ile gerçekleştirdiğimiz Örnek Senaryo 2'nin Spark fonksiyonalitesi kullanılarak gerçekleştirilmiş hali aşağıdaki şekildedir. "
   ]
  },
  {
   "cell_type": "code",
   "execution_count": 14,
   "metadata": {},
   "outputs": [
    {
     "name": "stdout",
     "output_type": "stream",
     "text": [
      "+-------------+------------+----------+---+------+---+------+\n",
      "|      country|        city|population| RN|    SM|CNT|    DR|\n",
      "+-------------+------------+----------+---+------+---+------+\n",
      "|       Russia|      Moscow|  17125000|  1|17.125|  1|17.125|\n",
      "|  Philippines|      Manila|  23088000|  1|23.088|  1|23.088|\n",
      "|       Turkey|    Istanbul|  15154000|  1|15.154|  1|15.154|\n",
      "|    Argentina|Buenos Aires|  16157000|  1|16.157|  1|16.157|\n",
      "|        China|     Beijing|  19433000|  1|78.384|  4|19.596|\n",
      "|        China|   Guangzhou|  20902000|  2|78.384|  4|19.596|\n",
      "|        China|    Shanghai|  22120000|  3|78.384|  4|19.596|\n",
      "|        China|    Shenzhen|  15929000|  4|78.384|  4|19.596|\n",
      "|        India|       Delhi|  29617000|  1|70.532|  3|23.511|\n",
      "|        India|     Kolkāta|  17560000|  2|70.532|  3|23.511|\n",
      "|        India|      Mumbai|  23355000|  3|70.532|  3|23.511|\n",
      "|United States|    New York|  18713220|  1|18.713|  1|18.713|\n",
      "|      Nigeria|       Lagos|  15279000|  1|15.279|  1|15.279|\n",
      "|   Bangladesh|       Dhaka|  15443000|  1|15.443|  1|15.443|\n",
      "|     Thailand|     Bangkok|  17066000|  1|17.066|  1|17.066|\n",
      "|       Mexico| Mexico City|  20996000|  1|20.996|  1|20.996|\n",
      "|    Indonesia|     Jakarta|  34540000|  1| 34.54|  1| 34.54|\n",
      "| Korea, South|       Seoul|  21794000|  1|21.794|  1|21.794|\n",
      "|       Brazil|   São Paulo|  22046000|  1|22.046|  1|22.046|\n",
      "|        Japan|       Tokyo|  37977000|  1|37.977|  1|37.977|\n",
      "|        Egypt|       Cairo|  19372000|  1|19.372|  1|19.372|\n",
      "+-------------+------------+----------+---+------+---+------+\n",
      "\n"
     ]
    }
   ],
   "source": [
    "df\\\n",
    ".where(df.population > 15000000)\\\n",
    ".select(\"country\",\"city\",\"population\",\n",
    "          functions.row_number().over(Window.partitionBy(\"country\").orderBy(\"city\")).alias(\"RN\"),\n",
    "          functions.round(functions.sum(df.population/1000000).over(Window.partitionBy(\"country\")),3).alias(\"SM\"),\n",
    "          functions.count(\"city\").over(Window.partitionBy(\"country\")).alias(\"CNT\"),\n",
    "          functions.round(((functions.sum(df.population/1000000).over(Window.partitionBy(\"country\")))/\n",
    "              (functions.count(\"city\").over(Window.partitionBy(\"country\")))),3).alias(\"DR\"))\\\n",
    ".show(50)\n",
    "#.orderBy(\"population\", ascending=False)\\"
   ]
  }
 ],
 "metadata": {
  "kernelspec": {
   "display_name": "Python 3",
   "language": "python",
   "name": "python3"
  },
  "language_info": {
   "codemirror_mode": {
    "name": "ipython",
    "version": 3
   },
   "file_extension": ".py",
   "mimetype": "text/x-python",
   "name": "python",
   "nbconvert_exporter": "python",
   "pygments_lexer": "ipython3",
   "version": "3.8.10"
  }
 },
 "nbformat": 4,
 "nbformat_minor": 1
}
